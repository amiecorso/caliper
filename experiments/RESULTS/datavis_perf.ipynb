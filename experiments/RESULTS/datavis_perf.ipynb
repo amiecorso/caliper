{
 "cells": [
  {
   "cell_type": "code",
   "execution_count": null,
   "metadata": {},
   "outputs": [
    {
     "name": "stdout",
     "output_type": "stream",
     "text": [
      "['Network Size' 'Run Index' 'Test' 'Name' 'Succ' 'Fail' 'Send Rate (tps)'\n",
      " 'Max Latency (s)' 'Min Latency (s)' 'Avg Latency (s)' 'Throughput (tps)'\n",
      " 'Stale Block Rate' 'Num Blocks' 'Num Txns' 'Round Duration'\n",
      " 'My Throughput' 'Avg Interval' 'Min Interval' 'Max Interval'\n",
      " 'PercentDiff on TPS']\n"
     ]
    }
   ],
   "source": [
    "\n",
    "import pandas as pd\n",
    "import matplotlib.pyplot as plt\n",
    "import numpy as np\n",
    "import random\n",
    "import os\n",
    "\n",
    "#DATA = \"./perf_summary_124gradient5-80_linear.csv\"\n",
    "#DATA = \"../arch_exps/04-17-19-sizes681012-linear-gradient5-55-rep3/results/performance_summary.csv\"\n",
    "DATA = \"./perf_summary1246810gradient_linear_rep3.csv\"\n",
    "df = pd.read_csv(DATA)\n",
    "print(df.columns.values)\n",
    "\n",
    "netsizes = list(df[\"Network Size\"].unique())\n",
    "repeats = df[\"Run Index\"].unique()\n",
    "number_of_colors = len(netsizes)\n",
    "\n",
    "colors = [\"#\"+''.join([random.choice('0123456789ABCDEF') for j in range(6)]) for i in range(number_of_colors)]\n",
    "\n",
    "FIGS = []\n",
    "# plot Throughput\n",
    "fig1, ax1 = plt.subplots()\n",
    "fig1.suptitle(\"Throughput\")\n",
    "for size in netsizes:\n",
    "    color = colors[netsizes.index(size)]\n",
    "    for run in repeats:\n",
    "        subset = df[df['Network Size'] == size]\n",
    "        subset = subset[subset['Run Index'] == run]\n",
    "        subset.plot(x=\"Send Rate (tps)\", y=\"Throughput (tps)\", ax=ax1, label=str(size)+\"-run\"+str(run), color=color)\n",
    "ax1.set(xlabel=\"Send Rate (TPS)\", ylabel=\"Throughput (TPS)\")\n",
    "\n",
    "\n",
    "# plot MY Throughput\n",
    "fig2, ax2 = plt.subplots()\n",
    "fig2.suptitle(\"MY Throughput\")\n",
    "for size in netsizes:\n",
    "    color = colors[netsizes.index(size)]\n",
    "    for run in repeats:\n",
    "        subset = df[df['Network Size'] == size]\n",
    "        subset = subset[subset['Run Index'] == run]\n",
    "        subset.plot(x=\"Send Rate (tps)\", y=\"My Throughput\", ax=ax2, label=str(size)+\"-run\"+str(run), color=color)\n",
    "ax2.set(xlabel=\"Send Rate (TPS)\", ylabel=\"MY Throughput (TPS)\")\n",
    "\n",
    "# plot Stale Block Rate\n",
    "fig3, ax3 = plt.subplots()\n",
    "fig3.suptitle(\"Stale Block Rate\")\n",
    "for size in netsizes:\n",
    "    color = colors[netsizes.index(size)]\n",
    "    for run in repeats:\n",
    "        subset = df[df['Network Size'] == size]\n",
    "        subset = subset[subset['Run Index'] == run]\n",
    "        subset.plot(x=\"Send Rate (tps)\", y=\"Stale Block Rate\", ax=ax3, label=str(size)+\"-run\"+str(run), color=color)\n",
    "ax3.set(xlabel=\"Send Rate (TPS)\", ylabel=\"Stale Blocks Rate\")\n",
    "\n",
    "# plot Num Blocks published\n",
    "fig4, ax4 = plt.subplots()\n",
    "fig4.suptitle(\"Num Published Blocks\")\n",
    "for size in netsizes:\n",
    "    color = colors[netsizes.index(size)]\n",
    "    for run in repeats:\n",
    "        subset = df[df['Network Size'] == size]\n",
    "        subset = subset[subset['Run Index'] == run]\n",
    "        subset.plot(x=\"Send Rate (tps)\", y=\"Num Blocks\", ax=ax4, label=str(size)+\"-run\"+str(run), color=color)\n",
    "ax4.set(xlabel=\"Send Rate (TPS)\", ylabel=\"Num Blocks Published\")\n",
    "\n",
    "# plot Avg Block Interval\n",
    "fig5, ax5 = plt.subplots()\n",
    "fig5.suptitle(\"Average Block Interval\")\n",
    "for size in netsizes:\n",
    "    color = colors[netsizes.index(size)]\n",
    "    for run in repeats:\n",
    "        subset = df[df['Network Size'] == size]\n",
    "        subset = subset[subset['Run Index'] == run]\n",
    "        subset.plot(x=\"Send Rate (tps)\", y=\"Avg Interval\", ax=ax5, label=str(size)+\"-run\"+str(run), color=color)\n",
    "ax5.set(xlabel=\"Send Rate (TPS)\", ylabel=\"Avg Interval\")\n",
    "\n",
    "fig1.savefig(\"/home/amie/Desktop/throughput.pdf\")\n",
    "fig2.savefig(\"/home/amie/Desktop/MYthroughput.pdf\")\n",
    "fig3.savefig(\"/home/amie/Desktop/stale.pdf\")\n",
    "fig4.savefig(\"/home/amie/Desktop/numblocks.pdf\")\n",
    "fig5.savefig(\"/home/amie/Desktop/avginterval.pdf\")\n",
    "\n",
    "\n",
    "plt.show()\n"
   ]
  },
  {
   "cell_type": "code",
   "execution_count": null,
   "metadata": {
    "collapsed": true
   },
   "outputs": [],
   "source": []
  },
  {
   "cell_type": "code",
   "execution_count": null,
   "metadata": {
    "collapsed": true
   },
   "outputs": [],
   "source": []
  },
  {
   "cell_type": "code",
   "execution_count": null,
   "metadata": {
    "collapsed": true
   },
   "outputs": [],
   "source": []
  }
 ],
 "metadata": {
  "kernelspec": {
   "display_name": "Python 3",
   "language": "python",
   "name": "python3"
  },
  "language_info": {
   "codemirror_mode": {
    "name": "ipython",
    "version": 3
   },
   "file_extension": ".py",
   "mimetype": "text/x-python",
   "name": "python",
   "nbconvert_exporter": "python",
   "pygments_lexer": "ipython3",
   "version": "3.6.3"
  }
 },
 "nbformat": 4,
 "nbformat_minor": 2
}
