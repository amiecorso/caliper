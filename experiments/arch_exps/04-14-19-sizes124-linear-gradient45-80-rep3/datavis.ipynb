{
 "cells": [
  {
   "cell_type": "code",
   "execution_count": 13,
   "metadata": {},
   "outputs": [
    {
     "name": "stdout",
     "output_type": "stream",
     "text": [
      "   Network Size  Run Index  Test   Name   Succ  Fail  Send Rate (tps)  \\\n",
      "0             1          0     1   5TPS   5020     0              5.0   \n",
      "1             1          1     1   5TPS   5020     0              5.0   \n",
      "2             1          2     1   5TPS   5020     0              5.0   \n",
      "3             1          0     1  10TPS  10020     0             10.0   \n",
      "4             1          1     1  10TPS  10020     0             10.0   \n",
      "\n",
      "   Max Latency (s)  Min Latency (s)  Avg Latency (s)  Throughput (tps)  \\\n",
      "0             0.03             0.01             0.01               5.0   \n",
      "1             0.11             0.01             0.01               5.0   \n",
      "2             0.03             0.01             0.01               5.0   \n",
      "3             0.29             0.01             0.02              10.0   \n",
      "4             0.24             0.01             0.02              10.0   \n",
      "\n",
      "   Stale Block Rate  Num Blocks  Num Txns  Round Duration  My Throughput  \\\n",
      "0               0.0          66      4872          1020.0            4.8   \n",
      "1               0.0          56      5032          1020.0            4.9   \n",
      "2               0.0          59      5032          1020.0            4.9   \n",
      "3               0.0          56      9592          1000.0            9.6   \n",
      "4               0.0          52      9872          1000.0            9.9   \n",
      "\n",
      "   Avg Interval  Min Interval  Max Interval  PercentDiff on TPS  \n",
      "0          15.9           5.0          50.0                0.04  \n",
      "1          19.6           5.0          55.0                0.02  \n",
      "2          18.1           5.0          50.0                0.02  \n",
      "3          19.8           5.0          50.0                0.04  \n",
      "4          22.6           5.0          55.0                0.01  \n",
      "[1 2 4]\n",
      "[0 1 2]\n",
      "    Network Size  Run Index  Test   Name   Succ   Fail  Send Rate (tps)  \\\n",
      "0              1          0     1   5TPS   5020      0              5.0   \n",
      "3              1          0     1  10TPS  10020      0             10.0   \n",
      "6              1          0     1  15TPS  15020      0             15.0   \n",
      "9              1          0     1  20TPS  20020      0             20.0   \n",
      "12             1          0     1  25TPS  24500    520             25.0   \n",
      "15             1          0     1  30TPS  25520   4500             30.0   \n",
      "18             1          0     1  35TPS  23660  11360             35.0   \n",
      "21             1          0     1  40TPS  24160  15860             40.0   \n",
      "\n",
      "    Max Latency (s)  Min Latency (s)  Avg Latency (s)  Throughput (tps)  \\\n",
      "0              0.03             0.01             0.01               5.0   \n",
      "3              0.29             0.01             0.02              10.0   \n",
      "6              1.33             0.01             0.08              15.0   \n",
      "9              1.49             0.01             0.10              20.0   \n",
      "12             2.05             0.01             0.11              24.5   \n",
      "15             2.05             0.01             0.10              25.5   \n",
      "18             2.19             0.01             0.13              23.7   \n",
      "21             2.23             0.01             0.11              24.2   \n",
      "\n",
      "    Stale Block Rate  Num Blocks  Num Txns  Round Duration  My Throughput  \\\n",
      "0              0.000          66      4872          1020.0            4.8   \n",
      "3              0.000          56      9592          1000.0            9.6   \n",
      "6              0.000          59     14792           995.0           14.9   \n",
      "9             -0.021          49     18752           975.0           19.2   \n",
      "12             0.000          30     21052           970.0           21.7   \n",
      "15             0.000          39     23232           945.0           24.6   \n",
      "18             0.000          33     22072           950.0           23.2   \n",
      "21             0.000          26     20892           950.0           22.0   \n",
      "\n",
      "    Avg Interval  Min Interval  Max Interval  PercentDiff on TPS  \n",
      "0           15.9           5.0          50.0                0.04  \n",
      "3           19.8           5.0          50.0                0.04  \n",
      "6           19.2           5.0          70.0                0.01  \n",
      "9           23.8           5.0          65.0                0.04  \n",
      "12          34.0           5.0          65.0                0.13  \n",
      "15          32.3           5.0          75.0                0.04  \n",
      "18          34.4           5.0          95.0                0.02  \n",
      "21          35.4           5.0          95.0                0.10  \n"
     ]
    },
    {
     "data": {
      "image/png": "[encoded data removed]",
      "text/plain": [
       "<matplotlib.figure.Figure at 0x7fc3cddb3198>"
      ]
     },
     "metadata": {},
     "output_type": "display_data"
    }
   ],
   "source": [
    "\n",
    "import pandas as pd\n",
    "import matplotlib.pyplot as plt\n",
    "import os\n",
    "\n",
    "DATA = \"./results/performance_summary.csv\"\n",
    "df = pd.read_csv(DATA)\n",
    "print(df.head(5))\n",
    "\n",
    "netsizes = df[\"Network Size\"].unique()\n",
    "repeats = df[\"Run Index\"].unique()\n",
    "print(netsizes)\n",
    "print(repeats)\n",
    "\n",
    "for size in netsizes:\n",
    "    for run in repeats:\n",
    "        subset = df[df['Network Size'] == size]\n",
    "        subset = subset[subset['Run Index'] == run]\n",
    "        ax = subset.plot(x=\"Send Rate (tps)\", y=\"Throughput (tps)\", label=\"1 - Run0\", title=str(1) + \"-node network\", color='orange')\n",
    "        break\n",
    "    break\n",
    "print(subset)\n",
    "\n",
    "df1 = df[df['Network Size'] == 1]\n",
    "df2 = df[df['Network Size'] == 2]\n",
    "df1_0 = df1[df1['Run Index'] == 0]\n",
    "df1_1 = df1[df1['Run Index'] == 1]\n",
    "df2_0 = df2[df2['Run Index'] == 0]\n",
    "df2_1 = df2[df2['Run Index'] == 1]\n",
    "\n",
    "\n",
    "df1_1.plot(x=\"Send Rate (tps)\", y=\"Throughput (tps)\", ax=ax, label=\"1 - Run1\", title=str(1) + \"-node network\", color='orange')\n",
    "df2_0.plot(x=\"Send Rate (tps)\", y=\"Throughput (tps)\", ax=ax, label=\"2 - Run0\", title=str(1) + \"-node network\", color='r')\n",
    "df2_1.plot(x=\"Send Rate (tps)\", y=\"Throughput (tps)\", ax=ax, label=\"2 - Run1\", title=str(1) + \"-node network\", color='r')\n",
    "ax.set(xlabel=\"Send Rate (TPS)\", ylabel=\"Throughput (TPS)\")\n",
    "#fig = ax.get_figure()\n",
    "#fig.savefig(\"/Users/amiecorso/Desktop/exp1-\" + str(netsize) + \".pdf\")\n",
    "\n",
    "plt.show()\n"
   ]
  },
  {
   "cell_type": "code",
   "execution_count": null,
   "metadata": {
    "collapsed": true
   },
   "outputs": [],
   "source": []
  }
 ],
 "metadata": {
  "kernelspec": {
   "display_name": "Python 3",
   "language": "python",
   "name": "python3"
  },
  "language_info": {
   "codemirror_mode": {
    "name": "ipython",
    "version": 3
   },
   "file_extension": ".py",
   "mimetype": "text/x-python",
   "name": "python",
   "nbconvert_exporter": "python",
   "pygments_lexer": "ipython3",
   "version": "3.6.3"
  }
 },
 "nbformat": 4,
 "nbformat_minor": 2
}
